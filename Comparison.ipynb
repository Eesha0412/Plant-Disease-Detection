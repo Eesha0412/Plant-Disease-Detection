{
  "nbformat": 4,
  "nbformat_minor": 0,
  "metadata": {
    "colab": {
      "name": "CV_PROJECT_COMPARE.ipynb",
      "provenance": [],
      "authorship_tag": "ABX9TyNeoR/LkjjKOgCDC3QijmR5",
      "include_colab_link": true
    },
    "kernelspec": {
      "name": "python3",
      "display_name": "Python 3"
    },
    "language_info": {
      "name": "python"
    }
  },
  "cells": [
    {
      "cell_type": "markdown",
      "metadata": {
        "id": "view-in-github",
        "colab_type": "text"
      },
      "source": [
        "<a href=\"https://colab.research.google.com/github/Eesha0412/Plant-Disease-Detection/blob/main/Comparison.ipynb\" target=\"_parent\"><img src=\"https://colab.research.google.com/assets/colab-badge.svg\" alt=\"Open In Colab\"/></a>"
      ]
    },
    {
      "cell_type": "code",
      "execution_count": 1,
      "metadata": {
        "colab": {
          "base_uri": "https://localhost:8080/",
          "height": 333
        },
        "id": "uFtYLOTsbSss",
        "outputId": "c28ebafd-0dea-45c9-c07f-9c9f216939df"
      },
      "outputs": [
        {
          "output_type": "stream",
          "name": "stderr",
          "text": [
            "/usr/local/lib/python3.7/dist-packages/ipykernel_launcher.py:19: MatplotlibDeprecationWarning: Support for uppercase single-letter colors is deprecated since Matplotlib 3.1 and will be removed in 3.3; please use lowercase instead.\n"
          ]
        },
        {
          "output_type": "display_data",
          "data": {
            "text/plain": [
              "<Figure size 432x288 with 1 Axes>"
            ],
            "image/png": "[encoded data removed]"
          },
          "metadata": {
            "needs_background": "light"
          }
        }
      ],
      "source": [
        "import numpy as np\n",
        "import matplotlib.pyplot as plt\n",
        "  \n",
        "N = 4\n",
        "ind = np.arange(N) \n",
        "width = 0.20\n",
        "\n",
        "knn = [0.47,0.30,0.30,0.30] #report 1  KNN FOR K=3\n",
        "\n",
        "bar1 = plt.bar(ind, knn, width, color = 'r')\n",
        "  \n",
        "nn = [0.47,0.44,0.42,0.44]   #report 2 Neural network\n",
        "\n",
        "bar2 = plt.bar(ind+width, nn, width, color='g')\n",
        "\n",
        "\n",
        "cnn = [0.75,0.60,0.63,0.90]   #report 4 for complex cnn \n",
        "\n",
        "bar3 = plt.bar(ind+width*2, cnn, width, color = 'Y')\n",
        "\n",
        "\n",
        "complex_cnn = [0.84,0.61,0.65,0.81]   #report 4 for complex cnn \n",
        "\n",
        "bar4 = plt.bar(ind+width*3, complex_cnn, width, color = 'b')\n",
        "  \n",
        "plt.xlabel(\"parameters\")\n",
        "plt.ylabel('value')\n",
        "plt.title(\"values for different parameters\")\n",
        "  \n",
        "plt.xticks(ind+width,['precision', 'recall', 'f1-score', 'accuracy'])\n",
        "plt.legend( (bar1, bar2, bar3, bar4), ('KNN', 'NN','CNN', 'Complex CNN') )\n",
        "plt.show()"
      ]
    }
  ]
}